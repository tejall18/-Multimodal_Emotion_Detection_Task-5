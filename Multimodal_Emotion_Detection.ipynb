{
 "cells": [
  {
   "cell_type": "markdown",
   "id": "06bfea68-3ca7-4b00-b1b2-b4f790e6cff8",
   "metadata": {},
   "source": [
    "## Multimodal Emotion Detection System"
   ]
  },
  {
   "cell_type": "code",
   "execution_count": 1,
   "id": "e703b263-fd17-4c6b-81c5-479829a0a11a",
   "metadata": {},
   "outputs": [],
   "source": [
    "#import libraries\n",
    "import os\n",
    "import numpy as np\n",
    "import librosa\n",
    "from tensorflow.keras.layers import Dense, Input, Dropout, concatenate, Conv2D, MaxPooling2D, Flatten, Conv1D, MaxPooling1D, GlobalAveragePooling1D, Reshape\n",
    "from tensorflow.keras.models import Model\n",
    "from tensorflow.keras.optimizers import Adam\n",
    "from tensorflow.keras.callbacks import ModelCheckpoint, ReduceLROnPlateau\n",
    "from tensorflow.keras.utils import to_categorical\n",
    "from tensorflow.keras.preprocessing.image import ImageDataGenerator\n",
    "from sklearn.preprocessing import LabelEncoder\n",
    "from sklearn.model_selection import train_test_split\n",
    "import matplotlib.pyplot as plt\n",
    "\n",
    "# Importing necessary libraries for facial expression recognition\n",
    "import cv2"
   ]
  },
  {
   "cell_type": "code",
   "execution_count": 2,
   "id": "e5c5ac40-b6fa-4b44-98a4-72136a18b67e",
   "metadata": {},
   "outputs": [],
   "source": [
    "# Data Preparation for Voice Tone Analysis Model (TESS Dataset)\n",
    "audio_data_directory = \"TESS/\"\n",
    "emotions = ['angry', 'disgust', 'fear', 'happy', 'neutral', 'sad', 'surprise']\n",
    "\n",
    "audio_features = []\n",
    "audio_labels = []\n"
   ]
  },
  {
   "cell_type": "code",
   "execution_count": 3,
   "id": "ef6aae48-17e9-419e-a225-83f0784dc19a",
   "metadata": {},
   "outputs": [],
   "source": [
    "# Loop through each emotion and load corresponding audio files\n",
    "for emotion in emotions:\n",
    "    for audio_file in os.listdir(audio_data_directory):\n",
    "        if emotion in audio_file:\n",
    "            audio_path = os.path.join(audio_data_directory, audio_file)\n",
    "            # Load audio file and extract features using librosa\n",
    "            y, sr = librosa.load(audio_path, sr=None)\n",
    "            mfccs = librosa.feature.mfcc(y=y, sr=sr, n_mfcc=40)\n",
    "            mfccs_mean = np.mean(mfccs.T, axis=0)\n",
    "            audio_features.append(mfccs_mean)\n",
    "            audio_labels.append(emotion)\n"
   ]
  },
  {
   "cell_type": "code",
   "execution_count": 4,
   "id": "2b54b0d8-8136-41b5-b277-958645ebd496",
   "metadata": {},
   "outputs": [],
   "source": [
    "# Convert features and labels to numpy arrays\n",
    "audio_features = np.array(audio_features)\n",
    "audio_labels = np.array(audio_labels)"
   ]
  },
  {
   "cell_type": "code",
   "execution_count": 5,
   "id": "ae035fe3-2109-4cb8-af17-b2ff5168ebe9",
   "metadata": {},
   "outputs": [],
   "source": [
    "from sklearn.preprocessing import LabelEncoder\n",
    "# Encode labels\n",
    "label_encoder = LabelEncoder()\n",
    "audio_labels_encoded = label_encoder.fit_transform(audio_labels)\n",
    "num_classes = len(label_encoder.classes_)"
   ]
  },
  {
   "cell_type": "code",
   "execution_count": 6,
   "id": "34dcb6ef-9863-4ee2-8eaf-0edff608a0b2",
   "metadata": {},
   "outputs": [],
   "source": [
    "from sklearn.model_selection import train_test_split\n",
    "# Split the dataset into training and validation sets\n",
    "audio_train, audio_validation, labels_train, labels_validation = train_test_split(\n",
    "    audio_features, audio_labels_encoded, test_size=0.2, random_state=42\n",
    ")"
   ]
  },
  {
   "cell_type": "code",
   "execution_count": 7,
   "id": "94173695-e097-4e2f-b617-00384bedd649",
   "metadata": {},
   "outputs": [
    {
     "name": "stdout",
     "output_type": "stream",
     "text": [
      "Training data shape: (1920, 40)\n",
      "Validation data shape: (480, 40)\n",
      "Training labels shape: (1920,)\n",
      "Validation labels shape: (480,)\n"
     ]
    }
   ],
   "source": [
    "# Print shapes for verification\n",
    "print(\"Training data shape:\", audio_train.shape)\n",
    "print(\"Validation data shape:\", audio_validation.shape)\n",
    "print(\"Training labels shape:\", labels_train.shape)\n",
    "print(\"Validation labels shape:\", labels_validation.shape)"
   ]
  },
  {
   "cell_type": "code",
   "execution_count": 8,
   "id": "6320978c-5d6d-441b-9121-70f206562d7f",
   "metadata": {},
   "outputs": [
    {
     "name": "stdout",
     "output_type": "stream",
     "text": [
      "Shape of audio_train: (1920, 40)\n"
     ]
    }
   ],
   "source": [
    "print(\"Shape of audio_train:\", audio_train.shape)"
   ]
  },
  {
   "cell_type": "code",
   "execution_count": 9,
   "id": "62a99401-bc1c-420d-ab05-fca41708896f",
   "metadata": {},
   "outputs": [],
   "source": [
    "# Implement and train a separate model for voice tone analysis\n",
    "def audio_model(input_shape_audio):\n",
    "    inputs_audio = Input(input_shape_audio)\n",
    "    x = Reshape((input_shape_audio[0], 1))(inputs_audio)  # Reshape for compatibility with Conv1D\n",
    "    x = Conv1D(32, kernel_size=3, activation=\"relu\")(x)\n",
    "    x = MaxPooling1D(pool_size=2)(x)\n",
    "    x = Conv1D(64, kernel_size=3, activation=\"relu\")(x)\n",
    "    x = MaxPooling1D(pool_size=2)(x)\n",
    "    x = Conv1D(128, kernel_size=3, activation=\"relu\")(x)\n",
    "    x = GlobalAveragePooling1D()(x)\n",
    "    x = Dense(128, activation=\"relu\")(x)\n",
    "    output_audio = Dense(num_classes, activation=\"softmax\")(x)\n",
    "    return inputs_audio, output_audio"
   ]
  },
  {
   "cell_type": "code",
   "execution_count": 10,
   "id": "c093acf8-ead1-4031-8eed-47a7b51487fe",
   "metadata": {},
   "outputs": [],
   "source": [
    "# Define the model architecture for facial expression recognition\n",
    "def facial_model(input_shape_facial):\n",
    "    inputs_facial = Input(input_shape_facial)\n",
    "    x = Conv2D(32, kernel_size=(3, 3), activation='relu')(inputs_facial)\n",
    "    x = MaxPooling2D(pool_size=(2, 2))(x)\n",
    "    x = Conv2D(64, kernel_size=(3, 3), activation='relu')(x)\n",
    "    x = MaxPooling2D(pool_size=(2, 2))(x)\n",
    "    x = Conv2D(128, kernel_size=(3, 3), activation='relu')(x)\n",
    "    x = MaxPooling2D(pool_size=(2, 2))(x)\n",
    "    x = Flatten()(x)\n",
    "    x = Dense(128, activation='relu')(x)\n",
    "    output_facial = Dense(7, activation='softmax')(x)\n",
    "    return inputs_facial, output_facial"
   ]
  },
  {
   "cell_type": "code",
   "execution_count": 11,
   "id": "1b52e67a-8375-4a42-a149-473cf5915cee",
   "metadata": {},
   "outputs": [],
   "source": [
    "# Define input shapes\n",
    "input_shape_audio = (audio_train.shape[1],)\n",
    "input_shape_facial = (48, 48, 1)  # Assuming grayscale images of size 48x48"
   ]
  },
  {
   "cell_type": "code",
   "execution_count": 12,
   "id": "2d0b6415-cd1f-4322-a87b-6056f347d7c6",
   "metadata": {},
   "outputs": [],
   "source": [
    "# Create audio model\n",
    "inputs_audio, output_audio = audio_model(input_shape_audio)\n",
    "audio_model = Model(inputs=inputs_audio, outputs=output_audio)"
   ]
  },
  {
   "cell_type": "code",
   "execution_count": 13,
   "id": "c8c0d03b-6d4e-4c12-8588-51d2f977b150",
   "metadata": {},
   "outputs": [],
   "source": [
    "# Create facial expression recognition model\n",
    "inputs_facial, output_facial = facial_model(input_shape_facial)\n",
    "facial_model = Model(inputs=inputs_facial, outputs=output_facial)"
   ]
  },
  {
   "cell_type": "code",
   "execution_count": 14,
   "id": "322511b6-a1da-47d3-93dc-5e92ae02fc0b",
   "metadata": {},
   "outputs": [],
   "source": [
    "# Combine both models\n",
    "combined_input = concatenate([audio_model.output, facial_model.output])\n",
    "x = Dense(64, activation=\"relu\")(combined_input)\n",
    "x = Dropout(0.5)(x)\n",
    "output_combined = Dense(num_classes, activation=\"softmax\")(x)"
   ]
  },
  {
   "cell_type": "code",
   "execution_count": 15,
   "id": "4a1d5a3d-2fd6-4fa9-ad54-dac36017cc1b",
   "metadata": {},
   "outputs": [],
   "source": [
    "# Define the combined model\n",
    "combined_model = Model(inputs=[audio_model.input, facial_model.input], outputs=output_combined)"
   ]
  },
  {
   "cell_type": "code",
   "execution_count": 16,
   "id": "5f25723c-fa20-4d57-9909-a53a71288d08",
   "metadata": {},
   "outputs": [],
   "source": [
    "# Compile the combined model\n",
    "combined_model.compile(\n",
    "    loss='categorical_crossentropy',\n",
    "    optimizer=Adam(),\n",
    "    metrics=['accuracy']\n",
    ")"
   ]
  },
  {
   "cell_type": "code",
   "execution_count": 17,
   "id": "3b05c83a-2bad-4a1e-9d22-f5caf5e07f21",
   "metadata": {},
   "outputs": [
    {
     "name": "stdout",
     "output_type": "stream",
     "text": [
      "Model: \"model_2\"\n",
      "__________________________________________________________________________________________________\n",
      " Layer (type)                   Output Shape         Param #     Connected to                     \n",
      "==================================================================================================\n",
      " input_1 (InputLayer)           [(None, 40)]         0           []                               \n",
      "                                                                                                  \n",
      " input_2 (InputLayer)           [(None, 48, 48, 1)]  0           []                               \n",
      "                                                                                                  \n",
      " reshape (Reshape)              (None, 40, 1)        0           ['input_1[0][0]']                \n",
      "                                                                                                  \n",
      " conv2d (Conv2D)                (None, 46, 46, 32)   320         ['input_2[0][0]']                \n",
      "                                                                                                  \n",
      " conv1d (Conv1D)                (None, 38, 32)       128         ['reshape[0][0]']                \n",
      "                                                                                                  \n",
      " max_pooling2d (MaxPooling2D)   (None, 23, 23, 32)   0           ['conv2d[0][0]']                 \n",
      "                                                                                                  \n",
      " max_pooling1d (MaxPooling1D)   (None, 19, 32)       0           ['conv1d[0][0]']                 \n",
      "                                                                                                  \n",
      " conv2d_1 (Conv2D)              (None, 21, 21, 64)   18496       ['max_pooling2d[0][0]']          \n",
      "                                                                                                  \n",
      " conv1d_1 (Conv1D)              (None, 17, 64)       6208        ['max_pooling1d[0][0]']          \n",
      "                                                                                                  \n",
      " max_pooling2d_1 (MaxPooling2D)  (None, 10, 10, 64)  0           ['conv2d_1[0][0]']               \n",
      "                                                                                                  \n",
      " max_pooling1d_1 (MaxPooling1D)  (None, 8, 64)       0           ['conv1d_1[0][0]']               \n",
      "                                                                                                  \n",
      " conv2d_2 (Conv2D)              (None, 8, 8, 128)    73856       ['max_pooling2d_1[0][0]']        \n",
      "                                                                                                  \n",
      " conv1d_2 (Conv1D)              (None, 6, 128)       24704       ['max_pooling1d_1[0][0]']        \n",
      "                                                                                                  \n",
      " max_pooling2d_2 (MaxPooling2D)  (None, 4, 4, 128)   0           ['conv2d_2[0][0]']               \n",
      "                                                                                                  \n",
      " global_average_pooling1d (Glob  (None, 128)         0           ['conv1d_2[0][0]']               \n",
      " alAveragePooling1D)                                                                              \n",
      "                                                                                                  \n",
      " flatten (Flatten)              (None, 2048)         0           ['max_pooling2d_2[0][0]']        \n",
      "                                                                                                  \n",
      " dense (Dense)                  (None, 128)          16512       ['global_average_pooling1d[0][0]'\n",
      "                                                                 ]                                \n",
      "                                                                                                  \n",
      " dense_2 (Dense)                (None, 128)          262272      ['flatten[0][0]']                \n",
      "                                                                                                  \n",
      " dense_1 (Dense)                (None, 6)            774         ['dense[0][0]']                  \n",
      "                                                                                                  \n",
      " dense_3 (Dense)                (None, 7)            903         ['dense_2[0][0]']                \n",
      "                                                                                                  \n",
      " concatenate (Concatenate)      (None, 13)           0           ['dense_1[0][0]',                \n",
      "                                                                  'dense_3[0][0]']                \n",
      "                                                                                                  \n",
      " dense_4 (Dense)                (None, 64)           896         ['concatenate[0][0]']            \n",
      "                                                                                                  \n",
      " dropout (Dropout)              (None, 64)           0           ['dense_4[0][0]']                \n",
      "                                                                                                  \n",
      " dense_5 (Dense)                (None, 6)            390         ['dropout[0][0]']                \n",
      "                                                                                                  \n",
      "==================================================================================================\n",
      "Total params: 405,459\n",
      "Trainable params: 405,459\n",
      "Non-trainable params: 0\n",
      "__________________________________________________________________________________________________\n"
     ]
    }
   ],
   "source": [
    "# Display the model architecture\n",
    "combined_model.summary()"
   ]
  },
  {
   "cell_type": "code",
   "execution_count": 18,
   "id": "6bd9c944-1a03-474a-b703-e9b507564df6",
   "metadata": {},
   "outputs": [],
   "source": [
    "# Define callbacks\n",
    "checkpoint = ModelCheckpoint(\"combined_model_weights.h5\", monitor='val_accuracy', save_weights_only=True, mode='max', verbose=1)\n",
    "reduce_lr = ReduceLROnPlateau(monitor='val_loss', factor=0.1, patience=2, min_lr=0.00001)\n",
    "callbacks = [checkpoint, reduce_lr]"
   ]
  },
  {
   "cell_type": "code",
   "execution_count": 19,
   "id": "ac1bc871-087f-4628-97ba-a2d07dd8af72",
   "metadata": {},
   "outputs": [
    {
     "name": "stdout",
     "output_type": "stream",
     "text": [
      "Found 28709 images belonging to 7 classes.\n",
      "Found 7178 images belonging to 7 classes.\n"
     ]
    }
   ],
   "source": [
    "# Define the number of epochs\n",
    "epochs = 20  # Example: You can set the number of epochs according to your training requirements\n",
    "\n",
    "img_size = 48\n",
    "batch_size = 64\n",
    "\n",
    "# Load and preprocess facial image data\n",
    "datagen_train_facial = ImageDataGenerator(horizontal_flip=True, )  # Define your preprocessing steps\n",
    "train_generator_facial = datagen_train_facial.flow_from_directory(\n",
    "    \"train/\",  # Update with your train directory path\n",
    "    target_size=(48, 48),\n",
    "    color_mode=\"grayscale\",\n",
    "    batch_size=batch_size,\n",
    "    class_mode=\"categorical\",\n",
    "    shuffle=True\n",
    ")\n",
    "\n",
    "datagen_validation_facial = ImageDataGenerator(horizontal_flip=True)  # Define your preprocessing steps\n",
    "validation_generator_facial = datagen_validation_facial.flow_from_directory(\n",
    "    \"test/\",  # Update with your validation directory path\n",
    "    target_size=(48, 48),\n",
    "    color_mode=\"grayscale\",\n",
    "    batch_size=batch_size,\n",
    "    class_mode=\"categorical\",\n",
    "    shuffle=True\n",
    ")\n"
   ]
  },
  {
   "cell_type": "code",
   "execution_count": 20,
   "id": "5c7b95dc-6a0c-411c-b82e-17d1b25508b7",
   "metadata": {},
   "outputs": [],
   "source": [
    "# Convert facial image data to numpy arrays\n",
    "facial_train, _ = next(train_generator_facial)\n",
    "facial_validation, _ = next(validation_generator_facial)"
   ]
  },
  {
   "cell_type": "code",
   "execution_count": 21,
   "id": "62de6eb0-9aa0-466b-a904-dbef2c306a81",
   "metadata": {},
   "outputs": [],
   "source": [
    "# Ensure the same number of samples for audio and facial data\n",
    "num_samples = min(len(audio_train), len(facial_train))\n",
    "audio_train = audio_train[:num_samples]\n",
    "facial_train = facial_train[:num_samples]\n",
    "labels_train = labels_train[:num_samples]"
   ]
  },
  {
   "cell_type": "code",
   "execution_count": 22,
   "id": "8a6cf3fa-6fea-4d82-8cab-bfa366d691f7",
   "metadata": {},
   "outputs": [],
   "source": [
    "num_samples = min(len(audio_validation), len(facial_validation))\n",
    "audio_validation = audio_validation[:num_samples]\n",
    "facial_validation = facial_validation[:num_samples]\n",
    "labels_validation = labels_validation[:num_samples]\n"
   ]
  },
  {
   "cell_type": "code",
   "execution_count": 23,
   "id": "8b35754f-43b2-49b0-a83b-840d7e3e5fbd",
   "metadata": {},
   "outputs": [
    {
     "name": "stdout",
     "output_type": "stream",
     "text": [
      "Epoch 1/20\n",
      "1/1 [==============================] - ETA: 0s - loss: 1.7903 - accuracy: 0.1719\n",
      "Epoch 1: saving model to combined_model_weights.h5\n",
      "1/1 [==============================] - 7s 7s/step - loss: 1.7903 - accuracy: 0.1719 - val_loss: 1.8144 - val_accuracy: 0.1875 - lr: 0.0010\n",
      "Epoch 2/20\n",
      "1/1 [==============================] - ETA: 0s - loss: 1.7412 - accuracy: 0.2188\n",
      "Epoch 2: saving model to combined_model_weights.h5\n",
      "1/1 [==============================] - 1s 503ms/step - loss: 1.7412 - accuracy: 0.2188 - val_loss: 1.8165 - val_accuracy: 0.1875 - lr: 0.0010\n",
      "Epoch 3/20\n",
      "1/1 [==============================] - ETA: 0s - loss: 1.7619 - accuracy: 0.1719\n",
      "Epoch 3: saving model to combined_model_weights.h5\n",
      "1/1 [==============================] - 0s 407ms/step - loss: 1.7619 - accuracy: 0.1719 - val_loss: 1.8264 - val_accuracy: 0.1875 - lr: 0.0010\n",
      "Epoch 4/20\n",
      "1/1 [==============================] - ETA: 0s - loss: 1.7751 - accuracy: 0.1875\n",
      "Epoch 4: saving model to combined_model_weights.h5\n",
      "1/1 [==============================] - 0s 356ms/step - loss: 1.7751 - accuracy: 0.1875 - val_loss: 1.8276 - val_accuracy: 0.1875 - lr: 1.0000e-04\n",
      "Epoch 5/20\n",
      "1/1 [==============================] - ETA: 0s - loss: 1.7984 - accuracy: 0.1562\n",
      "Epoch 5: saving model to combined_model_weights.h5\n",
      "1/1 [==============================] - 0s 406ms/step - loss: 1.7984 - accuracy: 0.1562 - val_loss: 1.8287 - val_accuracy: 0.1875 - lr: 1.0000e-04\n",
      "Epoch 6/20\n",
      "1/1 [==============================] - ETA: 0s - loss: 1.7824 - accuracy: 0.2031\n",
      "Epoch 6: saving model to combined_model_weights.h5\n",
      "1/1 [==============================] - 0s 392ms/step - loss: 1.7824 - accuracy: 0.2031 - val_loss: 1.8288 - val_accuracy: 0.1875 - lr: 1.0000e-05\n",
      "Epoch 7/20\n",
      "1/1 [==============================] - ETA: 0s - loss: 1.7365 - accuracy: 0.1562\n",
      "Epoch 7: saving model to combined_model_weights.h5\n",
      "1/1 [==============================] - 0s 344ms/step - loss: 1.7365 - accuracy: 0.1562 - val_loss: 1.8289 - val_accuracy: 0.1875 - lr: 1.0000e-05\n",
      "Epoch 8/20\n",
      "1/1 [==============================] - ETA: 0s - loss: 1.7859 - accuracy: 0.1094\n",
      "Epoch 8: saving model to combined_model_weights.h5\n",
      "1/1 [==============================] - 0s 368ms/step - loss: 1.7859 - accuracy: 0.1094 - val_loss: 1.8290 - val_accuracy: 0.1875 - lr: 1.0000e-05\n",
      "Epoch 9/20\n",
      "1/1 [==============================] - ETA: 0s - loss: 1.7495 - accuracy: 0.1719\n",
      "Epoch 9: saving model to combined_model_weights.h5\n",
      "1/1 [==============================] - 0s 360ms/step - loss: 1.7495 - accuracy: 0.1719 - val_loss: 1.8291 - val_accuracy: 0.1875 - lr: 1.0000e-05\n",
      "Epoch 10/20\n",
      "1/1 [==============================] - ETA: 0s - loss: 1.7640 - accuracy: 0.1719\n",
      "Epoch 10: saving model to combined_model_weights.h5\n",
      "1/1 [==============================] - 0s 407ms/step - loss: 1.7640 - accuracy: 0.1719 - val_loss: 1.8292 - val_accuracy: 0.1875 - lr: 1.0000e-05\n",
      "Epoch 11/20\n",
      "1/1 [==============================] - ETA: 0s - loss: 1.7740 - accuracy: 0.1250\n",
      "Epoch 11: saving model to combined_model_weights.h5\n",
      "1/1 [==============================] - 0s 354ms/step - loss: 1.7740 - accuracy: 0.1250 - val_loss: 1.8294 - val_accuracy: 0.1875 - lr: 1.0000e-05\n",
      "Epoch 12/20\n",
      "1/1 [==============================] - ETA: 0s - loss: 1.7347 - accuracy: 0.2188\n",
      "Epoch 12: saving model to combined_model_weights.h5\n",
      "1/1 [==============================] - 0s 485ms/step - loss: 1.7347 - accuracy: 0.2188 - val_loss: 1.8295 - val_accuracy: 0.1875 - lr: 1.0000e-05\n",
      "Epoch 13/20\n",
      "1/1 [==============================] - ETA: 0s - loss: 1.7689 - accuracy: 0.1094\n",
      "Epoch 13: saving model to combined_model_weights.h5\n",
      "1/1 [==============================] - 0s 471ms/step - loss: 1.7689 - accuracy: 0.1094 - val_loss: 1.8296 - val_accuracy: 0.1875 - lr: 1.0000e-05\n",
      "Epoch 14/20\n",
      "1/1 [==============================] - ETA: 0s - loss: 1.7726 - accuracy: 0.1562\n",
      "Epoch 14: saving model to combined_model_weights.h5\n",
      "1/1 [==============================] - 0s 379ms/step - loss: 1.7726 - accuracy: 0.1562 - val_loss: 1.8298 - val_accuracy: 0.1875 - lr: 1.0000e-05\n",
      "Epoch 15/20\n",
      "1/1 [==============================] - ETA: 0s - loss: 1.7428 - accuracy: 0.2188\n",
      "Epoch 15: saving model to combined_model_weights.h5\n",
      "1/1 [==============================] - 0s 454ms/step - loss: 1.7428 - accuracy: 0.2188 - val_loss: 1.8299 - val_accuracy: 0.1875 - lr: 1.0000e-05\n",
      "Epoch 16/20\n",
      "1/1 [==============================] - ETA: 0s - loss: 1.7362 - accuracy: 0.2500\n",
      "Epoch 16: saving model to combined_model_weights.h5\n",
      "1/1 [==============================] - 0s 332ms/step - loss: 1.7362 - accuracy: 0.2500 - val_loss: 1.8300 - val_accuracy: 0.1875 - lr: 1.0000e-05\n",
      "Epoch 17/20\n",
      "1/1 [==============================] - ETA: 0s - loss: 1.7276 - accuracy: 0.2969\n",
      "Epoch 17: saving model to combined_model_weights.h5\n",
      "1/1 [==============================] - 0s 372ms/step - loss: 1.7276 - accuracy: 0.2969 - val_loss: 1.8302 - val_accuracy: 0.1875 - lr: 1.0000e-05\n",
      "Epoch 18/20\n",
      "1/1 [==============================] - ETA: 0s - loss: 1.7372 - accuracy: 0.2500\n",
      "Epoch 18: saving model to combined_model_weights.h5\n",
      "1/1 [==============================] - 0s 365ms/step - loss: 1.7372 - accuracy: 0.2500 - val_loss: 1.8303 - val_accuracy: 0.1875 - lr: 1.0000e-05\n",
      "Epoch 19/20\n",
      "1/1 [==============================] - ETA: 0s - loss: 1.7638 - accuracy: 0.1875\n",
      "Epoch 19: saving model to combined_model_weights.h5\n",
      "1/1 [==============================] - 0s 383ms/step - loss: 1.7638 - accuracy: 0.1875 - val_loss: 1.8305 - val_accuracy: 0.1875 - lr: 1.0000e-05\n",
      "Epoch 20/20\n",
      "1/1 [==============================] - ETA: 0s - loss: 1.7672 - accuracy: 0.1875\n",
      "Epoch 20: saving model to combined_model_weights.h5\n",
      "1/1 [==============================] - 0s 384ms/step - loss: 1.7672 - accuracy: 0.1875 - val_loss: 1.8307 - val_accuracy: 0.1875 - lr: 1.0000e-05\n"
     ]
    }
   ],
   "source": [
    "# Train the combined model\n",
    "history = combined_model.fit(\n",
    "    [audio_train, facial_train],\n",
    "    to_categorical(labels_train, num_classes=num_classes),\n",
    "    epochs=epochs,\n",
    "    batch_size=batch_size,\n",
    "    validation_data=(\n",
    "        [audio_validation, facial_validation],\n",
    "        to_categorical(labels_validation, num_classes=num_classes),\n",
    "    ),\n",
    "    callbacks=callbacks\n",
    ")"
   ]
  },
  {
   "cell_type": "code",
   "execution_count": 24,
   "id": "84ed43f5-9ffb-4cb4-8d12-9da53022f347",
   "metadata": {},
   "outputs": [
    {
     "name": "stdout",
     "output_type": "stream",
     "text": [
      "1/1 [==============================] - 0s 90ms/step - loss: 1.8307 - accuracy: 0.1875\n"
     ]
    }
   ],
   "source": [
    "# Evaluate the combined model\n",
    "evaluation = combined_model.evaluate(\n",
    "    [audio_validation, facial_validation],  # Pass audio and facial validation data as a list\n",
    "    to_categorical(labels_validation, num_classes=num_classes),  # Convert labels to categorical if necessary\n",
    "    batch_size=batch_size\n",
    ")"
   ]
  },
  {
   "cell_type": "code",
   "execution_count": 25,
   "id": "d6fc809e-b6f7-43a2-a29d-0b8afbac0227",
   "metadata": {},
   "outputs": [
    {
     "name": "stdout",
     "output_type": "stream",
     "text": [
      "Validation Loss: 1.830655574798584\n",
      "Validation Accuracy: 0.1875\n"
     ]
    }
   ],
   "source": [
    "print(\"Validation Loss:\", evaluation[0])\n",
    "print(\"Validation Accuracy:\", evaluation[1])"
   ]
  },
  {
   "cell_type": "code",
   "execution_count": 26,
   "id": "1bdd4afb-92d5-4db3-ac7a-fa358721e1d9",
   "metadata": {},
   "outputs": [
    {
     "data": {
      "image/png": "[encoded data removed]",
      "text/plain": [
       "<Figure size 640x480 with 1 Axes>"
      ]
     },
     "metadata": {},
     "output_type": "display_data"
    }
   ],
   "source": [
    "# Plotting loss\n",
    "plt.plot(history.history['loss'])\n",
    "plt.plot(history.history['val_loss'])\n",
    "plt.title('Model Loss')\n",
    "plt.legend(['Train', 'Validation'], loc='upper left')\n",
    "plt.show()"
   ]
  },
  {
   "cell_type": "code",
   "execution_count": 27,
   "id": "c3ad6f66-b1c2-4976-90b0-c063c30abbd0",
   "metadata": {},
   "outputs": [
    {
     "data": {
      "image/png": "[encoded data removed]",
      "text/plain": [
       "<Figure size 640x480 with 1 Axes>"
      ]
     },
     "metadata": {},
     "output_type": "display_data"
    }
   ],
   "source": [
    "# Plotting accuracy\n",
    "plt.plot(history.history['accuracy'])\n",
    "plt.plot(history.history['val_accuracy'])\n",
    "plt.title('Model Accuracy')\n",
    "plt.legend(['Train', 'Validation'], loc='upper left')\n",
    "plt.show()"
   ]
  },
  {
   "cell_type": "code",
   "execution_count": 28,
   "id": "e524d5dd-4f14-479f-9ea2-106d7bbd8e5b",
   "metadata": {},
   "outputs": [],
   "source": [
    "# Save the combined model architecture\n",
    "combined_model_json = combined_model.to_json()\n",
    "with open(\"combined_model.json\", \"w\") as json_file:\n",
    "    json_file.write(combined_model_json)"
   ]
  }
 ],
 "metadata": {
  "kernelspec": {
   "display_name": "Python 3 (ipykernel)",
   "language": "python",
   "name": "python3"
  },
  "language_info": {
   "codemirror_mode": {
    "name": "ipython",
    "version": 3
   },
   "file_extension": ".py",
   "mimetype": "text/x-python",
   "name": "python",
   "nbconvert_exporter": "python",
   "pygments_lexer": "ipython3",
   "version": "3.10.13"
  }
 },
 "nbformat": 4,
 "nbformat_minor": 5
}
